{
 "cells": [
  {
   "cell_type": "markdown",
   "metadata": {},
   "source": [
    "Reverse Words in a string II"
   ]
  },
  {
   "cell_type": "code",
   "execution_count": 5,
   "metadata": {},
   "outputs": [
    {
     "data": {
      "text/plain": [
       "['t', 'h', 'e', ' ', 's', 'k', 'y', ' ', 'i', 's', ' ', 'b', 'l', 'u', 'e']"
      ]
     },
     "execution_count": 5,
     "metadata": {},
     "output_type": "execute_result"
    }
   ],
   "source": [
    "def reverseWords(str):\n",
    "    i = 0\n",
    "    j = len(str) - 1\n",
    "    \n",
    "    while i!= j:\n",
    "        str[i],str[j] = str[j],str[i]\n",
    "        i+=1\n",
    "        j-=1\n",
    "    \n",
    "    i = 0\n",
    "    \n",
    "    while(i<len(str)):\n",
    "        j = i+1\n",
    "        while(j<len(str) and j!=' '):\n",
    "            j+=1\n",
    "        end = j-1\n",
    "        \n",
    "        while i!=end:\n",
    "            str[i],str[end] = str[end],str[i]\n",
    "            i+=1\n",
    "            end-=1\n",
    "        \n",
    "        i = j+1\n",
    "        \n",
    "    return str\n",
    "        \n",
    "reverseWords([\"t\",\"h\",\"e\",\" \",\"s\",\"k\",\"y\",\" \",\"i\",\"s\",\" \",\"b\",\"l\",\"u\",\"e\"])\n",
    "    "
   ]
  },
  {
   "cell_type": "markdown",
   "metadata": {},
   "source": [
    "Maximum Size Subarray Sum Equals k"
   ]
  },
  {
   "cell_type": "code",
   "execution_count": 10,
   "metadata": {},
   "outputs": [
    {
     "data": {
      "text/plain": [
       "2"
      ]
     },
     "execution_count": 10,
     "metadata": {},
     "output_type": "execute_result"
    }
   ],
   "source": [
    "\n",
    "def maxSubArrayLen(nums, k):\n",
    "    \"\"\"\n",
    "    :type nums: List[int]\n",
    "    :type k: int\n",
    "    :rtype: int\n",
    "    \"\"\"\n",
    "    ans = float(\"-inf\")\n",
    "    sum = 0\n",
    "    table = {}\n",
    "\n",
    "    for i in range(len(nums)):\n",
    "        sum += nums[i]\n",
    "        if sum==k: \n",
    "            ans = i+1\n",
    "        elif sum-k in table:\n",
    "            ans = max(ans, i - table[sum-k])\n",
    "        table[sum] = table.get(sum,i)\n",
    "\n",
    "    return ans if ans!=float(\"-inf\") else 0\n",
    "\n",
    "maxSubArrayLen([1, -1, 5, -2, 3],4)"
   ]
  },
  {
   "cell_type": "markdown",
   "metadata": {},
   "source": [
    "Design Tic tac toe"
   ]
  },
  {
   "cell_type": "code",
   "execution_count": 27,
   "metadata": {},
   "outputs": [],
   "source": [
    "class TicTacToe(object):\n",
    "\n",
    "    def __init__(self, n):\n",
    "        \"\"\"\n",
    "        Initialize your data structure here.\n",
    "        :type n: int\n",
    "        \"\"\"\n",
    "        self.n = n\n",
    "        self.row = [0]*n\n",
    "        self.col = [0]*n\n",
    "        self.diag = 0\n",
    "        self.antidiag = 0\n",
    "        \n",
    "\n",
    "    def move(self, row, col, player):\n",
    "        \"\"\"\n",
    "        Player {player} makes a move at ({row}, {col}).\n",
    "        @param row The row of the board.\n",
    "        @param col The column of the board.\n",
    "        @param player The player, can be either 1 or 2.\n",
    "        @return The current winning condition, can be either:\n",
    "                0: No one wins.\n",
    "                1: Player 1 wins.\n",
    "                2: Player 2 wins.\n",
    "        :type row: int\n",
    "        :type col: int\n",
    "        :type player: int\n",
    "        :rtype: int\n",
    "        \"\"\"\n",
    "        score = 1 if player == 1 else -1\n",
    "        self.row[row] += score\n",
    "        self.col[col] += score\n",
    "        if row == col:\n",
    "            self.diag += score\n",
    "        if row + col == self.n - 1:\n",
    "            self.antidiag += score\n",
    "            \n",
    "        if self.n in [self.row[row],self.col[col],self.diag,self.antidiag]:\n",
    "            return 1\n",
    "        elif -self.n in [self.row[row],self.col[col],self.diag,self.antidiag]:\n",
    "            return 2\n",
    "        else:\n",
    "            return 0\n",
    "            \n",
    "        \n",
    "        \n"
   ]
  },
  {
   "cell_type": "code",
   "execution_count": 39,
   "metadata": {},
   "outputs": [
    {
     "name": "stdout",
     "output_type": "stream",
     "text": [
      "[0, 0, 0]\n"
     ]
    }
   ],
   "source": [
    "toe = TicTacToe(3);\n",
    "# toe.move(0, 0, 1)\n",
    "# toe.move(0, 2, 2)\n",
    "# toe.move(2, 2, 1)\n",
    "# toe.move(1, 1, 2)\n",
    "# toe.move(2, 0, 1)\n",
    "# toe.move(1, 0, 2)\n",
    "# result = toe.move(1, 2, 2)\n",
    "# print(result)"
   ]
  },
  {
   "cell_type": "markdown",
   "metadata": {},
   "source": [
    "Max consecutive ones II"
   ]
  },
  {
   "cell_type": "code",
   "execution_count": 90,
   "metadata": {},
   "outputs": [
    {
     "name": "stdout",
     "output_type": "stream",
     "text": [
      "0 0 0 1\n",
      "0 1 0 2\n",
      "0 2 1 3\n",
      "3 3 1 3\n",
      "3 4 1 3\n",
      "4 5 1 3\n",
      "4 6 1 3\n"
     ]
    },
    {
     "data": {
      "text/plain": [
       "3"
      ]
     },
     "execution_count": 90,
     "metadata": {},
     "output_type": "execute_result"
    }
   ],
   "source": [
    "def findMaxConsecutiveOnes(nums):\n",
    "    \"\"\"\n",
    "    :type nums: List[int]\n",
    "    :rtype: int\n",
    "    \"\"\"\n",
    "    ans = float(\"-inf\")\n",
    "    low = 0\n",
    "    high = 0\n",
    "    zero = 0\n",
    "    k = 1\n",
    "    while high < len(nums):\n",
    "        if nums[high] == 0:\n",
    "            zero += 1\n",
    "        while zero > k:\n",
    "            if nums[low] == 0:\n",
    "                zero -= 1\n",
    "            low += 1\n",
    "        ans = max(ans, high - low +1)\n",
    "        \n",
    "        high += 1\n",
    "        \n",
    "    return ans\n",
    "\n",
    "findMaxConsecutiveOnes([1,1,0,0,1,0,1])"
   ]
  },
  {
   "cell_type": "code",
   "execution_count": null,
   "metadata": {},
   "outputs": [],
   "source": [
    "def inorderSucc(root,p):\n",
    "        if not root or not p:\n",
    "            return None\n",
    "        suc = None\n",
    "        while root:\n",
    "            if root.val > p.val:\n",
    "                suc = root\n",
    "                root = root.left\n",
    "            else:\n",
    "                root = root.right\n",
    "        return suc"
   ]
  }
 ],
 "metadata": {
  "kernelspec": {
   "display_name": "Python 3",
   "language": "python",
   "name": "python3"
  },
  "language_info": {
   "codemirror_mode": {
    "name": "ipython",
    "version": 3
   },
   "file_extension": ".py",
   "mimetype": "text/x-python",
   "name": "python",
   "nbconvert_exporter": "python",
   "pygments_lexer": "ipython3",
   "version": "3.6.4"
  }
 },
 "nbformat": 4,
 "nbformat_minor": 2
}
